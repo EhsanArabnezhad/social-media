{
 "cells": [
  {
   "cell_type": "code",
   "execution_count": 14,
   "metadata": {},
   "outputs": [],
   "source": [
    "import re\n",
    "import pandas as pd\n",
    "import nltk\n",
    "from nltk.stem.porter import *\n",
    "from wordcloud import WordCloud, STOPWORDS\n",
    "import matplotlib.pyplot as plt\n",
    "import seaborn as sns\n",
    "sns.set()\n",
    "%matplotlib inline\n",
    "\n",
    "import warnings \n",
    "warnings.filterwarnings(\"ignore\", category=DeprecationWarning)"
   ]
  },
  {
   "cell_type": "code",
   "execution_count": 19,
   "metadata": {},
   "outputs": [],
   "source": [
    "import requests\n",
    "import json\n",
    "from vaderSentiment.vaderSentiment import SentimentIntensityAnalyzer\n",
    "analyser = SentimentIntensityAnalyzer()"
   ]
  },
  {
   "cell_type": "code",
   "execution_count": 23,
   "metadata": {},
   "outputs": [
    {
     "data": {
      "text/plain": [
       "{'neg': 0.0, 'neu': 0.463, 'pos': 0.537, 'compound': 0.5399}"
      ]
     },
     "execution_count": 23,
     "metadata": {},
     "output_type": "execute_result"
    }
   ],
   "source": [
    "analyser.polarity_scores(\"The movie is good!!\")"
   ]
  },
  {
   "cell_type": "code",
   "execution_count": 26,
   "metadata": {},
   "outputs": [
    {
     "data": {
      "text/plain": [
       "{'neg': 0.538, 'neu': 0.462, 'pos': 0.0, 'compound': -0.5423}"
      ]
     },
     "execution_count": 26,
     "metadata": {},
     "output_type": "execute_result"
    }
   ],
   "source": [
    "analyser.polarity_scores(\"The movie is bad\")"
   ]
  },
  {
   "cell_type": "code",
   "execution_count": 31,
   "metadata": {},
   "outputs": [],
   "source": [
    "def sentiment_analyzer_scores(text):\n",
    "    score = analyser.polarity_scores(text)\n",
    "    lb = score['compound']\n",
    "    if lb >= 0.05:\n",
    "        return 1\n",
    "    elif (lb <= -0.05):\n",
    "        return -1\n",
    "    else:\n",
    "        return 0"
   ]
  },
  {
   "cell_type": "code",
   "execution_count": 324,
   "metadata": {},
   "outputs": [],
   "source": [
    "def word_cloud(wd_list):\n",
    "    stopwords = set(STOPWORDS)\n",
    "    all_words = ' '.join([text for text in wd_list])\n",
    "    print((all_words))\n",
    "    wordcloud = WordCloud(\n",
    "        background_color='white',\n",
    "        stopwords=stopwords,\n",
    "        width=1600,\n",
    "        height=800,\n",
    "        random_state=21,\n",
    "        colormap='jet',\n",
    "        max_words=50,\n",
    "        max_font_size=200).generate(all_words)\n",
    "\n",
    "    plt.figure(figsize=(12, 10))\n",
    "    plt.axis('off')\n",
    "    plt.imshow(wordcloud, interpolation=\"bilinear\");"
   ]
  },
  {
   "cell_type": "code",
   "execution_count": 38,
   "metadata": {},
   "outputs": [],
   "source": [
    "from googletrans import Translator\n",
    "translator = Translator()"
   ]
  },
  {
   "cell_type": "code",
   "execution_count": 43,
   "metadata": {},
   "outputs": [
    {
     "data": {
      "text/plain": [
       "'Hello, come bien?'"
      ]
     },
     "execution_count": 43,
     "metadata": {},
     "output_type": "execute_result"
    }
   ],
   "source": [
    "translator.translate('Ciao, come bien?').text"
   ]
  },
  {
   "cell_type": "code",
   "execution_count": 44,
   "metadata": {},
   "outputs": [
    {
     "data": {
      "text/plain": [
       "{'neg': 0.538, 'neu': 0.462, 'pos': 0.0, 'compound': -0.5423}"
      ]
     },
     "execution_count": 44,
     "metadata": {},
     "output_type": "execute_result"
    }
   ],
   "source": [
    "text = translator.translate('la pelicula es mala').text\n",
    "analyser.polarity_scores(text)"
   ]
  },
  {
   "cell_type": "code",
   "execution_count": 45,
   "metadata": {},
   "outputs": [
    {
     "data": {
      "text/plain": [
       "'the movie is bad'"
      ]
     },
     "execution_count": 45,
     "metadata": {},
     "output_type": "execute_result"
    }
   ],
   "source": [
    "text"
   ]
  },
  {
   "cell_type": "code",
   "execution_count": 328,
   "metadata": {},
   "outputs": [],
   "source": [
    "def sentiment_analyzer_scores(text, engl=False):\n",
    "    if engl:\n",
    "        trans = text\n",
    "    else:\n",
    "        trans = translator.translate(text).text\n",
    "\n",
    "    score = analyser.polarity_scores(trans)\n",
    "    lb = score['compound']\n",
    "    if lb >= 0.05:\n",
    "        return 1\n",
    "    elif lb <= -0.05:\n",
    "        return -1\n",
    "    else:\n",
    "        return 0"
   ]
  },
  {
   "cell_type": "code",
   "execution_count": 329,
   "metadata": {},
   "outputs": [
    {
     "data": {
      "text/plain": [
       "1"
      ]
     },
     "execution_count": 329,
     "metadata": {},
     "output_type": "execute_result"
    }
   ],
   "source": [
    "text = 'the movie is very good'\n",
    "sentiment_analyzer_scores(text)"
   ]
  },
  {
   "cell_type": "code",
   "execution_count": 332,
   "metadata": {},
   "outputs": [
    {
     "data": {
      "text/plain": [
       "0"
      ]
     },
     "execution_count": 332,
     "metadata": {},
     "output_type": "execute_result"
    }
   ],
   "source": [
    "text = 'o mar é azul'\n",
    "sentiment_analyzer_scores(text, False)"
   ]
  },
  {
   "cell_type": "code",
   "execution_count": 52,
   "metadata": {},
   "outputs": [],
   "source": [
    "import sys\n",
    "import tweepy\n",
    "import csv"
   ]
  },
  {
   "cell_type": "code",
   "execution_count": 53,
   "metadata": {},
   "outputs": [],
   "source": [
    "consumer_key='IVSkMozP4K1hXdmCfUSFM7Du8'\n",
    "consumer_secret='Ob6XoyxLCUsgjDZeDEctNsiDE5A63RwQiIW7fTPB3tpRXXITb3'\n",
    "access_token='616315276-cS2ENY0FxPDZP2eBXX5s9Oe7cZ6LCSH6bvMO76Ot'\n",
    "access_token_secret='yHltmRoAowdB81c8v7RBPkCF8qB7QgLKdQQHIKezfJJWB'\n",
    "\n",
    "\n",
    "auth = tweepy.OAuthHandler(consumer_key, consumer_secret)\n",
    "auth.set_access_token(access_token, access_token_secret)\n",
    "\n",
    "api = tweepy.API(auth)"
   ]
  },
  {
   "cell_type": "code",
   "execution_count": 57,
   "metadata": {},
   "outputs": [
    {
     "name": "stdout",
     "output_type": "stream",
     "text": [
      "RT @zerodotfour1: @boldrini_paola #paolaboldrini daniele.fabbro.16 @zerodotfour1 @medi_pragma #cartadeidirittidellapersonaconemofilia #fabi…\n",
      "\n",
      "RT @zerodotfour1: #paolabinetti #adnkronos @medi_pragma @zerodotfour1 #zerodotfour daniele.fabbro.16 fabio.mazzeo #fabiomazzeo #danielefabb…\n",
      "\n",
      "Al vía l’evento istituzionale di valorizzazione e diffusione della #cartadeidiritti della Persona con #emofilia @FedEmo_Giovani @FondazioneParac @Cittadinanzatti https://t.co/viTndnBqxQ\n",
      "\n",
      "#GiornataMondiale della #BPCO\n",
      "#SPIROTRAIN https://t.co/na4YbDWzlg\n",
      "\n",
      "Newsletter Medi-Pragma\n",
      "Pillole da il «Manuale di Marketing Research»\n",
      "-vari scenari del mkt farmaceutico \n",
      "-case history, con soluzioni specifiche\n",
      "-download dell'articolo tematico \n",
      "-distribuzione numerica delle maggiori specializzazioni mediche \n",
      "ISCRIVITI https://t.co/RnrcOYZdYI https://t.co/WEDiw3BZej\n",
      "\n",
      "RT @LucioCorsaro2: Oggi @medi_pragma impegnata su molte iniziative di valore...#Spirotrain , #salutedellecitta,  test diagnostici in oncolo…\n",
      "\n",
      "Follower e Aziende #Farmaceutiche in Italia, aggiornamento di Novembre https://t.co/PDZzyqCe3L \n",
      "Per saperne di più naviga nel #dashboard dedicato, seleziona il canale SN o le Aziende che ti interessano.\n",
      "\n",
      "Sanità, #cartadeidiritti della persona con #emofilia, il 21 evento su road-map istituzionale @FedEmo_Giovani @Cittadinanzatti @FondazioneParac https://t.co/03lo7GYRf9 @ilmessaggeroit\n",
      "\n",
      "Road map istituzionale per la persona con #emofilia #cartadeidiritti #associazioni #pazienti @FedEmo_Giovani @Cittadinanzatti @FondazioneParac https://t.co/0b8oQbaZXN\n",
      "\n",
      "@FedEmo_Giovani @FondazioneParac @Cittadinanzatti @RegioneLazio https://t.co/Yg2keKSpAM\n",
      "\n"
     ]
    }
   ],
   "source": [
    "tweets = api.user_timeline('@medi_pragma', count=10, tweet_mode='extended')\n",
    "for t in tweets:\n",
    "    print(t.full_text)\n",
    "    print()"
   ]
  },
  {
   "cell_type": "code",
   "execution_count": null,
   "metadata": {},
   "outputs": [],
   "source": [
    "def list_tweets(user_id, count, prt=False):\n",
    "    tweets = api.user_timeline(\n",
    "        \"@\" + user_id, count=count, tweet_mode='extended')\n",
    "    tw = []\n",
    "    for t in tweets:\n",
    "        tw.append(t.full_text)\n",
    "        if prt:\n",
    "            print(t.full_text)\n",
    "            print()\n",
    "    return tw"
   ]
  },
  {
   "cell_type": "code",
   "execution_count": null,
   "metadata": {},
   "outputs": [],
   "source": [
    "user_id = 'medi_pragma' \n",
    "count=100"
   ]
  },
  {
   "cell_type": "code",
   "execution_count": null,
   "metadata": {},
   "outputs": [],
   "source": [
    "tw_medipragma = list_tweets(user_id, count)"
   ]
  },
  {
   "cell_type": "code",
   "execution_count": 62,
   "metadata": {},
   "outputs": [],
   "source": [
    "def remove_pattern(input_txt, pattern):\n",
    "    r = re.findall(pattern, input_txt)\n",
    "    for i in r:\n",
    "        input_txt = re.sub(i, '', input_txt)        \n",
    "    return input_txt"
   ]
  },
  {
   "cell_type": "code",
   "execution_count": 68,
   "metadata": {},
   "outputs": [],
   "source": [
    "def clean_tweets(lst):\n",
    "    # remove twitter Return handles (RT @xxx:)\n",
    "    lst = np.vectorize(remove_pattern)(lst, \"RT @[\\w]*:\")\n",
    "    # remove twitter handles (@xxx)\n",
    "    lst = np.vectorize(remove_pattern)(lst, \"@[\\w]*\")\n",
    "    # remove URL links (httpxxx)\n",
    "    lst = np.vectorize(remove_pattern)(lst, \"https?://[A-Za-z0-9./]*\")\n",
    "    # remove special characters, numbers, punctuations (except for #)\n",
    "    lst = np.core.defchararray.replace(lst, \"[^a-zA-Z#]\", \" \")\n",
    "\n",
    "    return lst"
   ]
  },
  {
   "cell_type": "code",
   "execution_count": 84,
   "metadata": {},
   "outputs": [],
   "source": [
    "tw_medipragma = clean_tweets(tw_medipragma)"
   ]
  },
  {
   "cell_type": "code",
   "execution_count": 85,
   "metadata": {},
   "outputs": [
    {
     "data": {
      "text/plain": [
       "'Al vía l’evento istituzionale di valorizzazione e diffusione della #cartadeidiritti della Persona con #emofilia    '"
      ]
     },
     "execution_count": 85,
     "metadata": {},
     "output_type": "execute_result"
    }
   ],
   "source": [
    "tw_medipragma[2]"
   ]
  },
  {
   "cell_type": "code",
   "execution_count": 86,
   "metadata": {},
   "outputs": [
    {
     "data": {
      "text/plain": [
       "0"
      ]
     },
     "execution_count": 86,
     "metadata": {},
     "output_type": "execute_result"
    }
   ],
   "source": [
    "sentiment_analyzer_scores(tw_medipragma[2])"
   ]
  },
  {
   "cell_type": "code",
   "execution_count": 87,
   "metadata": {},
   "outputs": [],
   "source": [
    "def anl_tweets(lst, title='Tweets Sentiment', engl=False ):\n",
    "    sents = []\n",
    "    for tw in lst:\n",
    "        try:\n",
    "            st = sentiment_analyzer_scores(tw, engl)\n",
    "            sents.append(st)\n",
    "        except:\n",
    "            sents.append(0)\n",
    "    ax = sns.distplot(\n",
    "        sents,\n",
    "        kde=False,\n",
    "        bins=3)\n",
    "    ax.set(xlabel='Negative                Neutral                 Positive',\n",
    "           ylabel='#Tweets',\n",
    "          title=\"Tweets of @\"+title)\n",
    "    return sents"
   ]
  },
  {
   "cell_type": "code",
   "execution_count": 88,
   "metadata": {},
   "outputs": [
    {
     "data": {
      "image/png": "[encoded data removed]",
      "text/plain": [
       "<Figure size 432x288 with 1 Axes>"
      ]
     },
     "metadata": {
      "needs_background": "light"
     },
     "output_type": "display_data"
    }
   ],
   "source": [
    "tw_medipragma_sent = anl_tweets(tw_medipragma, user_id)"
   ]
  },
  {
   "cell_type": "code",
   "execution_count": 260,
   "metadata": {},
   "outputs": [
    {
     "ename": "AttributeError",
     "evalue": "'str' object has no attribute 'decode'",
     "output_type": "error",
     "traceback": [
      "\u001b[0;31m---------------------------------------------------------------------------\u001b[0m",
      "\u001b[0;31mAttributeError\u001b[0m                            Traceback (most recent call last)",
      "\u001b[0;32m<ipython-input-260-35e77f48cd17>\u001b[0m in \u001b[0;36m<module>\u001b[0;34m\u001b[0m\n\u001b[0;32m----> 1\u001b[0;31m \u001b[0mword_cloud\u001b[0m\u001b[0;34m(\u001b[0m\u001b[0mtw_medipragma\u001b[0m\u001b[0;34m)\u001b[0m\u001b[0;34m\u001b[0m\u001b[0;34m\u001b[0m\u001b[0m\n\u001b[0m",
      "\u001b[0;32m<ipython-input-259-0b2387232936>\u001b[0m in \u001b[0;36mword_cloud\u001b[0;34m(wd_list)\u001b[0m\n\u001b[1;32m     11\u001b[0m         \u001b[0mcolormap\u001b[0m\u001b[0;34m=\u001b[0m\u001b[0;34m'jet'\u001b[0m\u001b[0;34m,\u001b[0m\u001b[0;34m\u001b[0m\u001b[0;34m\u001b[0m\u001b[0m\n\u001b[1;32m     12\u001b[0m         \u001b[0mmax_words\u001b[0m\u001b[0;34m=\u001b[0m\u001b[0;36m50\u001b[0m\u001b[0;34m,\u001b[0m\u001b[0;34m\u001b[0m\u001b[0;34m\u001b[0m\u001b[0m\n\u001b[0;32m---> 13\u001b[0;31m         max_font_size=200).generate(all_words.decode('utf-8'))\n\u001b[0m\u001b[1;32m     14\u001b[0m \u001b[0;34m\u001b[0m\u001b[0m\n\u001b[1;32m     15\u001b[0m     \u001b[0mplt\u001b[0m\u001b[0;34m.\u001b[0m\u001b[0mfigure\u001b[0m\u001b[0;34m(\u001b[0m\u001b[0mfigsize\u001b[0m\u001b[0;34m=\u001b[0m\u001b[0;34m(\u001b[0m\u001b[0;36m12\u001b[0m\u001b[0;34m,\u001b[0m \u001b[0;36m10\u001b[0m\u001b[0;34m)\u001b[0m\u001b[0;34m)\u001b[0m\u001b[0;34m\u001b[0m\u001b[0;34m\u001b[0m\u001b[0m\n",
      "\u001b[0;31mAttributeError\u001b[0m: 'str' object has no attribute 'decode'"
     ]
    }
   ],
   "source": [
    "word_cloud(tw_medipragma)"
   ]
  },
  {
   "cell_type": "code",
   "execution_count": 226,
   "metadata": {},
   "outputs": [],
   "source": [
    "def twitter_stream_listener(file_name,\n",
    "                            filter_track,\n",
    "                            follow=None,\n",
    "                            locations=None,\n",
    "                            languages=None,\n",
    "                            time_limit=20):\n",
    "    class CustomStreamListener(tweepy.StreamListener):\n",
    "        def __init__(self, time_limit):\n",
    "            self.start_time = time.time()\n",
    "            self.limit = time_limit\n",
    "            # self.saveFile = open('abcd.json', 'a')\n",
    "            super(CustomStreamListener, self).__init__()\n",
    "\n",
    "        def on_status(self, status):\n",
    "            if (time.time() - self.start_time) < self.limit:\n",
    "                print(\".\", end=\"\")\n",
    "                # Writing status data\n",
    "                with open(file_name, 'a') as f:\n",
    "                    writer = csv.writer(f)\n",
    "                    writer.writerow([\n",
    "                        status.author.screen_name, status.created_at,\n",
    "                        status.text\n",
    "                    ])\n",
    "            else:\n",
    "                print(\"\\n\\n[INFO] Closing file and ending streaming\")\n",
    "                return False\n",
    "\n",
    "        def on_error(self, status_code):\n",
    "            if status_code == 420:\n",
    "                print('Encountered error code 420. Disconnecting the stream')\n",
    "                # returning False in on_data disconnects the stream\n",
    "                return False\n",
    "            else:\n",
    "                print('Encountered error with status code: {}'.format(\n",
    "                    status_code))\n",
    "                return True  # Don't kill the stream\n",
    "\n",
    "        def on_timeout(self):\n",
    "            print('Timeout...')\n",
    "            return True  # Don't kill the stream\n",
    "\n",
    "    # Writing csv titles\n",
    "    print(\n",
    "        '\\n[INFO] Open file: [{}] and starting {} seconds of streaming for {}\\n'\n",
    "        .format(file_name, time_limit, filter_track))\n",
    "    with open(file_name, 'w') as f:\n",
    "        writer = csv.writer(f)\n",
    "        writer.writerow(['author', 'date', 'text'])\n",
    "\n",
    "    streamingAPI = tweepy.streaming.Stream(\n",
    "        auth, CustomStreamListener(time_limit=time_limit))\n",
    "    streamingAPI.filter(\n",
    "        track=filter_track,\n",
    "        follow=follow,\n",
    "        locations=locations,\n",
    "        languages=languages,\n",
    "    )\n",
    "    f.close()"
   ]
  },
  {
   "cell_type": "code",
   "execution_count": 316,
   "metadata": {},
   "outputs": [
    {
     "name": "stdout",
     "output_type": "stream",
     "text": [
      "\n",
      "[INFO] Open file: [medipragma.csv] and starting 60 seconds of streaming for ['medipragma', 'sanita', 'emofiglia']\n",
      "\n",
      ".\n",
      "\n",
      "[INFO] Closing file and ending streaming\n"
     ]
    }
   ],
   "source": [
    "filter_track = ['medipragma', 'sanita','emofiglia']\n",
    "file_name = 'medipragma.csv'\n",
    "twitter_stream_listener (file_name, filter_track, time_limit=60)"
   ]
  },
  {
   "cell_type": "code",
   "execution_count": 228,
   "metadata": {},
   "outputs": [],
   "source": [
    "import time"
   ]
  },
  {
   "cell_type": "code",
   "execution_count": 317,
   "metadata": {},
   "outputs": [
    {
     "data": {
      "text/plain": [
       "(1, 3)"
      ]
     },
     "execution_count": 317,
     "metadata": {},
     "output_type": "execute_result"
    }
   ],
   "source": [
    "file_name = 'medipragma.csv'\n",
    "df_tws = pd.read_csv(file_name, encoding='utf8')\n",
    "df_tws.shape"
   ]
  },
  {
   "cell_type": "code",
   "execution_count": 318,
   "metadata": {},
   "outputs": [
    {
     "data": {
      "text/html": [
       "<div>\n",
       "<style scoped>\n",
       "    .dataframe tbody tr th:only-of-type {\n",
       "        vertical-align: middle;\n",
       "    }\n",
       "\n",
       "    .dataframe tbody tr th {\n",
       "        vertical-align: top;\n",
       "    }\n",
       "\n",
       "    .dataframe thead th {\n",
       "        text-align: right;\n",
       "    }\n",
       "</style>\n",
       "<table border=\"1\" class=\"dataframe\">\n",
       "  <thead>\n",
       "    <tr style=\"text-align: right;\">\n",
       "      <th></th>\n",
       "      <th>author</th>\n",
       "      <th>date</th>\n",
       "      <th>text</th>\n",
       "    </tr>\n",
       "  </thead>\n",
       "  <tbody>\n",
       "    <tr>\n",
       "      <th>0</th>\n",
       "      <td>therealjoaoo</td>\n",
       "      <td>2019-11-23 15:50:10</td>\n",
       "      <td>RT @eddiehenriques: Está caiu na sanita, nunca...</td>\n",
       "    </tr>\n",
       "  </tbody>\n",
       "</table>\n",
       "</div>"
      ],
      "text/plain": [
       "         author                 date  \\\n",
       "0  therealjoaoo  2019-11-23 15:50:10   \n",
       "\n",
       "                                                text  \n",
       "0  RT @eddiehenriques: Está caiu na sanita, nunca...  "
      ]
     },
     "execution_count": 318,
     "metadata": {},
     "output_type": "execute_result"
    }
   ],
   "source": [
    "df_tws.head()"
   ]
  },
  {
   "cell_type": "code",
   "execution_count": 319,
   "metadata": {},
   "outputs": [],
   "source": [
    "df_tws['text'] =  clean_tweets(df_tws['text'])"
   ]
  },
  {
   "cell_type": "code",
   "execution_count": 320,
   "metadata": {},
   "outputs": [
    {
     "data": {
      "text/html": [
       "<div>\n",
       "<style scoped>\n",
       "    .dataframe tbody tr th:only-of-type {\n",
       "        vertical-align: middle;\n",
       "    }\n",
       "\n",
       "    .dataframe tbody tr th {\n",
       "        vertical-align: top;\n",
       "    }\n",
       "\n",
       "    .dataframe thead th {\n",
       "        text-align: right;\n",
       "    }\n",
       "</style>\n",
       "<table border=\"1\" class=\"dataframe\">\n",
       "  <thead>\n",
       "    <tr style=\"text-align: right;\">\n",
       "      <th></th>\n",
       "      <th>author</th>\n",
       "      <th>date</th>\n",
       "      <th>text</th>\n",
       "    </tr>\n",
       "  </thead>\n",
       "  <tbody>\n",
       "    <tr>\n",
       "      <th>0</th>\n",
       "      <td>therealjoaoo</td>\n",
       "      <td>2019-11-23 15:50:10</td>\n",
       "      <td>Está caiu na sanita, nunca mais apagou</td>\n",
       "    </tr>\n",
       "  </tbody>\n",
       "</table>\n",
       "</div>"
      ],
      "text/plain": [
       "         author                 date                                      text\n",
       "0  therealjoaoo  2019-11-23 15:50:10   Está caiu na sanita, nunca mais apagou "
      ]
     },
     "execution_count": 320,
     "metadata": {},
     "output_type": "execute_result"
    }
   ],
   "source": [
    "df_tws.head()"
   ]
  },
  {
   "cell_type": "code",
   "execution_count": 322,
   "metadata": {},
   "outputs": [
    {
     "data": {
      "image/png": "[encoded data removed]",
      "text/plain": [
       "<Figure size 432x288 with 1 Axes>"
      ]
     },
     "metadata": {
      "needs_background": "light"
     },
     "output_type": "display_data"
    }
   ],
   "source": [
    "df_tws['sent'] = anl_tweets(df_tws.text)"
   ]
  },
  {
   "cell_type": "code",
   "execution_count": 325,
   "metadata": {},
   "outputs": [
    {
     "name": "stdout",
     "output_type": "stream",
     "text": [
      " Está caiu na sanita, nunca mais apagou \n"
     ]
    },
    {
     "data": {
      "image/png": "[encoded data removed]",
      "text/plain": [
       "<Figure size 864x720 with 1 Axes>"
      ]
     },
     "metadata": {
      "needs_background": "light"
     },
     "output_type": "display_data"
    }
   ],
   "source": [
    "word_cloud(df_tws['text'])"
   ]
  },
  {
   "cell_type": "code",
   "execution_count": null,
   "metadata": {},
   "outputs": [],
   "source": []
  }
 ],
 "metadata": {
  "kernelspec": {
   "display_name": "Python 3",
   "language": "python",
   "name": "python3"
  },
  "language_info": {
   "codemirror_mode": {
    "name": "ipython",
    "version": 3
   },
   "file_extension": ".py",
   "mimetype": "text/x-python",
   "name": "python",
   "nbconvert_exporter": "python",
   "pygments_lexer": "ipython3",
   "version": "3.7.5"
  }
 },
 "nbformat": 4,
 "nbformat_minor": 2
}
