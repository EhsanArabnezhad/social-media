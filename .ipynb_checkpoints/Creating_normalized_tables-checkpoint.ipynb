{
 "cells": [
  {
   "cell_type": "code",
   "execution_count": 1,
   "metadata": {},
   "outputs": [],
   "source": [
    "import psycopg2"
   ]
  },
  {
   "cell_type": "code",
   "execution_count": 3,
   "metadata": {},
   "outputs": [],
   "source": [
    "try:\n",
    "    connection = psycopg2.connect(\"dbname=udacity\")\n",
    "except psycopg2.Error as e:\n",
    "    print (e)\n",
    "\n",
    "try:\n",
    "    cur = connection.cursor()\n",
    "except Exception as e:\n",
    "    print (e)\n",
    "\n",
    "connection.set_session(autocommit=True)"
   ]
  },
  {
   "cell_type": "code",
   "execution_count": 4,
   "metadata": {},
   "outputs": [
    {
     "name": "stdout",
     "output_type": "stream",
     "text": [
      "(1, 'Rubber Soul', 'The Beatles', 1965, ['Michelle', 'Think For Yourself', 'In My Life'])\n",
      "(2, 'Let It Be', 'The Beatles', 1970, ['Let It Be', 'Across The Universe'])\n",
      "(1, 'Rubber Soul', 'The Beatles', 1965, ['Michelle', 'Think For Yourself', 'In My Life'])\n",
      "(2, 'Let It Be', 'The Beatles', 1970, ['Let It Be', 'Across The Universe'])\n"
     ]
    }
   ],
   "source": [
    "qeury = \"create table if not exists music_library (album_id int, album_name varchar, \\\n",
    "        artist_name varchar, year int, songs text[]);\"\n",
    "\n",
    "try:\n",
    "    cur.execute(\"create table if not exists music_library (album_id int, album_name varchar, \\\n",
    "        artist_name varchar, year int, songs text[]);\")\n",
    "except Exception as e:\n",
    "    print(\"Error: Couldn't create table\")\n",
    "    print (e)\n",
    "    \n",
    "query = \"insert into music_library (album_id, album_name, artist_name, year, songs)\"\n",
    "query = query + \"values (%s, %s, %s, %s, %s)\"\n",
    "\n",
    "try:\n",
    "    cur.execute(query,  (1,\"Rubber Soul\",\"The Beatles\", 1965, [\"Michelle\", \"Think For Yourself\", \"In My Life\"]))\n",
    "except psycopg2.Error as e:\n",
    "    print(\"Error: Couldn't Insert into Table\")\n",
    "    print (e)\n",
    "\n",
    "try:\n",
    "    cur.execute(query, (2,\"Let It Be\",\"The Beatles\", 1970, [\"Let It Be\", \"Across The Universe\"]))\n",
    "except psycopg2.Error as e:\n",
    "    print (e)\n",
    "    \n",
    "try:\n",
    "    cur.execute(\"select * from music_library\")\n",
    "except psycopg2.Error as e:\n",
    "    print (e)\n",
    "row = cur.fetchone()\n",
    "while row:\n",
    "    print (row)\n",
    "    row = cur.fetchone()"
   ]
  },
  {
   "cell_type": "code",
   "execution_count": null,
   "metadata": {},
   "outputs": [],
   "source": []
  }
 ],
 "metadata": {
  "kernelspec": {
   "display_name": "Python 3",
   "language": "python",
   "name": "python3"
  },
  "language_info": {
   "codemirror_mode": {
    "name": "ipython",
    "version": 3
   },
   "file_extension": ".py",
   "mimetype": "text/x-python",
   "name": "python",
   "nbconvert_exporter": "python",
   "pygments_lexer": "ipython3",
   "version": "3.7.5"
  }
 },
 "nbformat": 4,
 "nbformat_minor": 2
}
